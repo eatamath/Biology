{
 "cells": [
  {
   "cell_type": "code",
   "execution_count": 19,
   "metadata": {},
   "outputs": [],
   "source": [
    "from module.prepare import *\n",
    "from itertools import product\n",
    "from sklearn.externals import joblib\n",
    "from sklearn import metrics\n",
    "from sklearn.model_selection import ParameterGrid\n",
    "\n",
    "import gc\n",
    "import os\n",
    "import re\n",
    "import math\n",
    "import sys\n",
    "from collections import Counter\n",
    "import random\n",
    "from itertools import islice\n",
    "import time\n",
    "import configparser\n",
    "import json\n",
    "\n",
    "import seaborn as sns\n",
    "import matplotlib.pyplot as plt\n",
    "import bokeh\n",
    "\n",
    "import numpy as np\n",
    "import pandas as pd\n",
    "from scipy.sparse import csr_matrix\n",
    "import scipy as sp\n",
    "from scipy import stats\n",
    "\n",
    "import sklearn\n",
    "from joblib import dump, load\n",
    "from sklearn.decomposition import *\n",
    "from sklearn.feature_selection import *\n",
    "from sklearn.ensemble import *\n",
    "from sklearn.model_selection import *\n",
    "from sklearn.linear_model import *\n",
    "from sklearn.manifold import *\n",
    "import sklearn.tree as Tr \n",
    "\n",
    "import lightgbm as lgb\n",
    "\n",
    "import optuna\n",
    "\n",
    "from boruta import BorutaPy\n",
    "\n",
    "from module.metrics import *"
   ]
  },
  {
   "cell_type": "code",
   "execution_count": 10,
   "metadata": {},
   "outputs": [],
   "source": [
    "cv = 5\n",
    "generalize_ratio = 1.0/cv\n",
    "test_ratio = 1.0/cv\n",
    "tuning_mode = False\n",
    "\n",
    "if tuning_mode:\n",
    "    cv = 1"
   ]
  },
  {
   "cell_type": "code",
   "execution_count": 11,
   "metadata": {},
   "outputs": [],
   "source": [
    "import json\n",
    "import re\n",
    "\n",
    "'''\n",
    "['NPInter10412','reRPI2825','RPI488','RPI2241','RPI1807','LPI43250','EVLncRNAs']\n",
    "'''\n",
    "params_1 = {\n",
    "    0:[(5,5,0.99)],\n",
    "    1:[(3,4,0.96)], # stage1\n",
    "    2:[(4,6,0.96)],\n",
    "    3:[(3,3,0.975),(6,3,0.93),(4,3,0.975)],\n",
    "    4:[(4,3,0.96)],\n",
    "    5:[(4,6,0.945)]\n",
    "}\n",
    "\n"
   ]
  },
  {
   "cell_type": "code",
   "execution_count": null,
   "metadata": {
    "scrolled": true
   },
   "outputs": [
    {
     "name": "stdout",
     "output_type": "stream",
     "text": [
      "read data 6 3\n",
      "=============RETRIEVE TRIAN DATA=================\n",
      "# DEBUG: # DEBUG: **************new dl 3***************\n",
      "# DEBUG: READ SEQ FROM FILE\n",
      "# DEBUG: READ CLUSTER FROM FILE\n",
      "ERROR:: regex  \n",
      "ERROR:: regex  \n",
      "# DEBUG: READ PAIR FROM FILE\n",
      "# DEBUG: GENERATE NEGATIVE PAIR\n",
      "# DEBUG: negative pair number 2240\n",
      "INFO::count of negative pairs2240\n",
      "# DEBUG: PAIR UNION\n",
      "# DEBUG: EXTRACT FEATURES--PROTEIN"
     ]
    }
   ],
   "source": [
    "_dataid = 3\n",
    "global_params = params_1[_dataid][1]\n",
    "### get conf of dataid\n",
    "protein_k = global_params[0]\n",
    "rna_k = global_params[1]\n",
    "top_ratio = global_params[2]\n",
    "### read data\n",
    "[data,T] = ReadData(_dataid,protein_k,rna_k)\n",
    "[X,Y] = ToMatrix(data,'dense')\n",
    "### split dataset\n",
    "[X_train,X_test,Y_train,Y_test] = SplitDataset(X,Y,0.2)\n",
    "### dimensionality reduction\n",
    "rf = RandomForestClassifier(n_jobs=-1,max_depth=5)\n",
    "feature_selector = BorutaPy(rf, n_estimators=100, verbose=2, random_state=1)\n",
    "feature_selector.fit(X_train, Y_train)"
   ]
  },
  {
   "cell_type": "code",
   "execution_count": null,
   "metadata": {},
   "outputs": [],
   "source": [
    "feature"
   ]
  },
  {
   "cell_type": "code",
   "execution_count": 15,
   "metadata": {},
   "outputs": [],
   "source": [
    "X_train = feature_selector.transform(X_train)\n",
    "X_test = feature_selector.transform(X_test)"
   ]
  },
  {
   "cell_type": "code",
   "execution_count": 16,
   "metadata": {},
   "outputs": [
    {
     "data": {
      "text/plain": [
       "LGBMClassifier(boosting_type='gbdt', class_weight=None, colsample_bytree=1.0,\n",
       "               importance_type='split', learning_rate=0.1, max_depth=-1,\n",
       "               min_child_samples=20, min_child_weight=0.001, min_split_gain=0.0,\n",
       "               n_estimators=100, n_jobs=6, num_leaves=31,\n",
       "               objective='cross_entropy', random_state=42, reg_alpha=0.0,\n",
       "               reg_lambda=0.0, silent=True, subsample=1.0,\n",
       "               subsample_for_bin=200000, subsample_freq=0)"
      ]
     },
     "execution_count": 16,
     "metadata": {},
     "output_type": "execute_result"
    }
   ],
   "source": [
    "clf = lgb.LGBMClassifier(objective='cross_entropy', random_state=seed, n_jobs=6)\n",
    "clf.fit(X_train,Y_train)"
   ]
  },
  {
   "cell_type": "code",
   "execution_count": 17,
   "metadata": {},
   "outputs": [],
   "source": [
    "Ypred_train = clf.predict(X_train)\n",
    "Ypred_test = clf.predict(X_test)"
   ]
  },
  {
   "cell_type": "code",
   "execution_count": 20,
   "metadata": {},
   "outputs": [],
   "source": [
    "score_train = scoreFunction(Ypred_train,Y_train)\n",
    "score_test = scoreFunction(Ypred_test,Y_test)"
   ]
  },
  {
   "cell_type": "code",
   "execution_count": 21,
   "metadata": {},
   "outputs": [
    {
     "data": {
      "text/plain": [
       "({'acc': 0.8136160714285714,\n",
       "  'auc': 0.8155550536986851,\n",
       "  'fpr': [0.0, 0.14673311184939092, 1.0],\n",
       "  'tpr': [0.0, 0.7733408323959505, 1.0],\n",
       "  'mcc': 0.6288548845402734,\n",
       "  'tnr': 0.853266888150609,\n",
       "  'ppv': 0.8384146341463414,\n",
       "  'f_score': 0.8045640725570509,\n",
       "  'ap': 0.7608244674922494,\n",
       "  'brier': 0.18638392857142858,\n",
       "  'sensitivity': 0.7733408323959505},\n",
       " {'acc': 0.7433035714285714,\n",
       "  'auc': 0.7448433002878158,\n",
       "  'fpr': [0.0, 0.22119815668202766, 1.0],\n",
       "  'tpr': [0.0, 0.70995670995671, 1.0],\n",
       "  'mcc': 0.489222356863771,\n",
       "  'tnr': 0.7788018433179723,\n",
       "  'ppv': 0.7735849056603774,\n",
       "  'f_score': 0.7404063205417608,\n",
       "  'ap': 0.6987653659233848,\n",
       "  'brier': 0.25669642857142855,\n",
       "  'sensitivity': 0.70995670995671})"
      ]
     },
     "execution_count": 21,
     "metadata": {},
     "output_type": "execute_result"
    }
   ],
   "source": [
    "score_train,score_test"
   ]
  }
 ],
 "metadata": {
  "kernelspec": {
   "display_name": "Python 3",
   "language": "python",
   "name": "python3"
  },
  "language_info": {
   "codemirror_mode": {
    "name": "ipython",
    "version": 3
   },
   "file_extension": ".py",
   "mimetype": "text/x-python",
   "name": "python",
   "nbconvert_exporter": "python",
   "pygments_lexer": "ipython3",
   "version": "3.7.6"
  }
 },
 "nbformat": 4,
 "nbformat_minor": 4
}
